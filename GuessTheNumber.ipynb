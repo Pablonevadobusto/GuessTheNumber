{
 "cells": [
  {
   "cell_type": "code",
   "execution_count": 3,
   "metadata": {},
   "outputs": [
    {
     "name": "stdout",
     "output_type": "stream",
     "text": [
      "Please, make sure you enter a number\n",
      "Please, provide a valid number (0-10)\n",
      "The number is too low\n",
      "user: 4 ,  random: 8\n",
      "The number is too low\n",
      "user: 6 ,  random: 8\n",
      "Spot-on!\n",
      "user: 8 ,  random: 8\n"
     ]
    }
   ],
   "source": [
    "############################################################################### GUESS THE NUMBER ###############################################################################\n",
    "import random as rd\n",
    "\n",
    "random_num = rd.randint(0,10)  # Importing the module to bring a random number\n",
    "\n",
    "# Looping to ask the user to input a number (within a range) \n",
    "while True:\n",
    "    # try and except to check whether what is inputted by the user is an int\n",
    "    try:\n",
    "        user = int(input(\"Please, try to guess the number in a range 0-10\")) \n",
    "    except:\n",
    "        print(\"Please, make sure you enter a number\")\n",
    "        continue      # This makes the code jump onto the top (begining of the loop)\n",
    "    if user > 10:\n",
    "        print(\"Please, provide a valid number (0-10)\") \n",
    "        continue      # This makes the code jump onto the top (begining of the loop)\n",
    "    # Conditionals - comparising the random number with the user number\n",
    "    elif user > random_num:\n",
    "        print(\"The number is too high\")\n",
    "        print(\"user:\", user,\", \", \"random:\",random_num)\n",
    "    elif user < random_num:\n",
    "        print(\"The number is too low\")\n",
    "        print(\"user:\", user,\", \", \"random:\",random_num)\n",
    "    else:\n",
    "        print(\"Spot-on!\")\n",
    "        print(\"user:\", user,\", \", \"random:\",random_num)\n",
    "        break          # This breaks the loop\n",
    "    \n",
    "    \n",
    "    \n"
   ]
  }
 ],
 "metadata": {
  "kernelspec": {
   "display_name": "Python 3",
   "language": "python",
   "name": "python3"
  },
  "language_info": {
   "codemirror_mode": {
    "name": "ipython",
    "version": 3
   },
   "file_extension": ".py",
   "mimetype": "text/x-python",
   "name": "python",
   "nbconvert_exporter": "python",
   "pygments_lexer": "ipython3",
   "version": "3.11.0"
  },
  "orig_nbformat": 4,
  "vscode": {
   "interpreter": {
    "hash": "ebfc0a8d552866b0d59eba665220a57de3bc06f3ac643b8bef38dd8f66781fdd"
   }
  }
 },
 "nbformat": 4,
 "nbformat_minor": 2
}
